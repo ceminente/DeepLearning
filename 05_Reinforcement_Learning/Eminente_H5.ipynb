{
 "cells": [
  {
   "cell_type": "code",
   "execution_count": 1,
   "metadata": {},
   "outputs": [],
   "source": [
    "import dill\n",
    "import numpy as np\n",
    "import agent\n",
    "import environment\n",
    "import matplotlib.pyplot as plt\n",
    "from tqdm import tqdm\n",
    "from itertools import product\n",
    "import pandas as pd"
   ]
  },
  {
   "cell_type": "code",
   "execution_count": 2,
   "metadata": {},
   "outputs": [],
   "source": [
    "def train_agent(learner, env, alpha, epsilon, episodes, episode_lenght, initial=\"random\", verbose=False):\n",
    "# perform the training\n",
    "    rewards_log = []\n",
    "    for index in range(0, episodes):\n",
    "        \n",
    "        \n",
    "        # start from a random state\n",
    "        if initial == \"random\":\n",
    "            initial = [np.random.randint(0, x), np.random.randint(0, y)]\n",
    "        # initialize environment\n",
    "        ##checking if initial and goal state are the same\n",
    "        bool_init = (initial == env.goal or initial in env.walls)\n",
    "        while (bool_init):\n",
    "            if initial == \"random\":\n",
    "                initial = [np.random.randint(0, x), np.random.randint(0, y)]\n",
    "            else: \n",
    "                print(\"Initial state cannot correspond to either goal or walls\")\n",
    "                break\n",
    "        if bool_init:\n",
    "            break\n",
    "        state = initial\n",
    "        \n",
    "        #initializes starting point keeping boundaries and goal fixed\n",
    "        env.initialize_start(initial)\n",
    "        reward = 0\n",
    "        # run episode\n",
    "        for step in range(0, episode_length):\n",
    "            # find state index\n",
    "            state_index = state[0] * y + state[1]\n",
    "            # choose an action\n",
    "            action = learner.select_action(state_index, epsilon[index]) #epsilon decade tra gli episodi\n",
    "            # the agent moves in the environment\n",
    "            result = env.move(action)\n",
    "            # Q-learning update\n",
    "            next_index = result[0][0] * y + result[0][1]\n",
    "            learner.update(state_index, action, result[1], next_index, alpha[index], epsilon[index])\n",
    "            # update state and reward\n",
    "            reward += result[1]\n",
    "            state = result[0]\n",
    "        reward = reward / episode_length\n",
    "        rewards_log.append(reward)\n",
    "        if verbose:\n",
    "            print('Episode ', index + 1, ': the agent has obtained an average reward of ', reward, ' starting from position ', initial) \n",
    "    if verbose:\n",
    "        fig, ax = plt.subplots(1,1, figsize=(8,7))\n",
    "        ax.scatter(episodes, rewards_log)\n",
    "        ax.set_xlabel(\"Episode\", fontsize=15)\n",
    "        ax.set_ylabel(\"Reward per step\", fontsize=15)\n",
    "        ax.tick_params(axis='both', which='major', labelsize=12)\n",
    "        ax.tick_params(axis='both', which='minor', labelsize=10)\n",
    "        fig.tight_layout()\n",
    "        plt.show()\n",
    "    return rewards_log, learner\n",
    "\n",
    "def test_agent(learner, env, episode_lenght, initial, plot=True):\n",
    "    if initial == \"random\":\n",
    "        initial = [np.random.randint(0, x), np.random.randint(0, y)]\n",
    "    # initialize environment\n",
    "    state = initial\n",
    "    #initializes starting point keeping boundaries and goal fixed\n",
    "    env.initialize_start(initial)\n",
    "    reward = 0\n",
    "    states_log = [state]\n",
    "    \n",
    "    for step in range(0, episode_length):\n",
    "        # find state index\n",
    "        state_index = state[0] * y + state[1]\n",
    "        # choose an action\n",
    "        action = learner.select_action(state_index, epsilon=\"greedy\") #epsilon è più greedy possibile\n",
    "        # the agent moves in the environment\n",
    "        result = env.move(action)\n",
    "        state = result[0]\n",
    "        states_log.append(state)\n",
    "             \n",
    "    return states_log\n",
    "\n",
    "def plot_moves(learner, env, states_log, title, moves=True, color_map=True):\n",
    "\n",
    "    dim = learner.qtable.shape[0]\n",
    "    \n",
    "    plt.figure(figsize=(6,6))\n",
    "    #plot maze\n",
    "    plt.imshow(env.maze.transpose(), cmap=\"Greys\", origin=\"lower\")\n",
    "    #plot heatmap of expected reward\n",
    "    if color_map:\n",
    "        exp_reward = np.amax(learner.qtable, axis=1)\n",
    "        plt.imshow(exp_reward.reshape(10,-1).transpose(), origin='lower')\n",
    "    #plot goal and start\n",
    "    plt.scatter(env.goal[0], env.goal[1], s=200, c='magenta', marker='o', alpha=0.5) #goal\n",
    "    plt.scatter(env.start[0], env.start[1], s=200, c='magenta', marker=\"*\", alpha=0.5) #start\n",
    "    #plot path\n",
    "    for step in states_log:\n",
    "        plt.scatter(step[0], step[1], s=100, c= 'magenta', marker=\".\")\n",
    "\n",
    "    #plotting the best move for each position\n",
    "    if moves: \n",
    "        exp_reward = np.amax(learner.qtable, axis=1)\n",
    "        exp_move = np.argwhere(np.vstack((exp_reward,exp_reward,exp_reward,exp_reward,exp_reward)).transpose() == learner.qtable)\n",
    "        exp_move = np.split(exp_move[:,1], np.unique(exp_move[:, 0], return_index=True)[1][1:])\n",
    "        for i in range(10):\n",
    "            for j in range(10):\n",
    "                if [i,j] in env.walls:\n",
    "                    pass\n",
    "                else:\n",
    "                    plt.text(i, j, exp_move[i*10 + j], ha=\"left\", va=\"top\", color=\"red\")\n",
    "                \n",
    "    # Major ticks\n",
    "    plt.xticks(np.arange(0, 10, 1))\n",
    "    plt.yticks(np.arange(0, 10, 1))\n",
    "\n",
    "    # Labels for major ticks\n",
    "    ax = plt.gca()\n",
    "    ax.set_xticklabels(np.arange(0, 10, 1))\n",
    "    ax.set_yticklabels(np.arange(0, 10, 1))\n",
    "\n",
    "    # Minor ticks\n",
    "    ax.set_xticks(np.arange(-.5, 10, 1), minor=True)\n",
    "    ax.set_yticks(np.arange(-.5, 10, 1), minor=True)\n",
    "\n",
    "    # Gridlines based on minor ticks\n",
    "    plt.grid(which='minor', color='black', linestyle='-', linewidth=2)\n",
    "    plt.tight_layout()\n",
    "    plt.savefig(title)\n",
    "    plt.show()\n",
    "    \n",
    "def epsilon(choice, episodes):\n",
    "    ei = 0.8\n",
    "    ef = 0.001\n",
    "    l = 3\n",
    "    if choice == \"lin\":\n",
    "        return np.linspace(ei, ef, episodes)\n",
    "    elif \"exp\":\n",
    "        return ef + (ei-ef)*np.exp(-l*np.arange(episodes)/episodes)\n",
    "    "
   ]
  },
  {
   "cell_type": "code",
   "execution_count": 3,
   "metadata": {},
   "outputs": [],
   "source": [
    "#%% Setting parametrs and initializing agent and env\n",
    "episodes = 2000       # number of training episodes\n",
    "episode_length = 50     # maximum episode length\n",
    "x = 10                  # horizontal size of the box\n",
    "y = 10                  # vertical size of the box\n",
    "state = [7,8]           # starting point\n",
    "goal = [0,3]           # objective point\n",
    "discount = 0.9         # exponential discount factor\n",
    "softmax = False      # set to true to use Softmax policy\n",
    "sarsa = False           # set to true to use the Sarsa algorithm"
   ]
  },
  {
   "cell_type": "markdown",
   "metadata": {},
   "source": [
    "# Initial analysis"
   ]
  },
  {
   "cell_type": "code",
   "execution_count": null,
   "metadata": {},
   "outputs": [],
   "source": [
    "# TODO alpha and epsilon profile\n",
    "alpha = np.ones(episodes) * 0.25\n",
    "epsilon = np.linspace(0.8, 0.001, episodes)\n",
    "\n",
    "# initialize the agent\n",
    "learner = agent.Agent(states=(x * y), actions=5, discount=discount, max_reward=1, softmax=softmax, sarsa=sarsa)\n",
    "env = environment.Environment(x, y, state, goal)"
   ]
  },
  {
   "cell_type": "code",
   "execution_count": null,
   "metadata": {},
   "outputs": [],
   "source": [
    "#%% Training\n",
    "training=False\n",
    "if training:\n",
    "    rewards_log, learner = train_agent(learner, env, alpha, epsilon, episodes, episode_length, initial=state)"
   ]
  },
  {
   "cell_type": "code",
   "execution_count": null,
   "metadata": {},
   "outputs": [],
   "source": [
    "test=False\n",
    "if test:\n",
    "    path = test_agent(learner, env, episode_length, initial=state)\n",
    "    plot_moves(learner, env, path, title=\"initial.png\")"
   ]
  },
  {
   "cell_type": "markdown",
   "metadata": {},
   "source": [
    "# Performances of combinations"
   ]
  },
  {
   "cell_type": "code",
   "execution_count": null,
   "metadata": {},
   "outputs": [],
   "source": [
    "# FIXED PARAMETERS\n",
    "episodes = 2000         # number of training episodes\n",
    "episode_length = 50     # maximum episode length\n",
    "x = 10                  # horizontal size of the box\n",
    "y = 10                  # vertical size of the box\n",
    "state = [7,8]           # starting point\n",
    "goal = [0,3]            # objective point\n",
    "discount = 0.9          # exponential discount factor\n",
    "alpha = np.ones(episodes) * 0.25"
   ]
  },
  {
   "cell_type": "code",
   "execution_count": null,
   "metadata": {},
   "outputs": [],
   "source": [
    "#SEARCHED \n",
    "softmax_choice = [True, False] \n",
    "sarsa_choice = [True, False]         \n",
    "epsilon_choice = [\"lin\", \"exp\"]\n",
    "combinations = list(product(*[softmax_choice,sarsa_choice,epsilon_choice]))\n",
    "filename = \"combinations.csv\"\n",
    "names=[\"softmax\",\"sarsa\",\"epsilon\"]\n",
    "list_of_models = pd.DataFrame(combinations, columns=names)\n",
    "list_of_models.to_csv(filename,index=False)"
   ]
  },
  {
   "cell_type": "code",
   "execution_count": null,
   "metadata": {},
   "outputs": [],
   "source": [
    "search = False\n",
    "if search :\n",
    "    repetitions=20\n",
    "\n",
    "    mrps = []\n",
    "    i=0\n",
    "    for choices in combinations:\n",
    "        print(\"Training combination %d of %d\" %(i, len(combinations)))\n",
    "        softmax = choices[0]\n",
    "        sarsa = choices[1]\n",
    "        eps = epsilon(choices[2], episodes)\n",
    "\n",
    "        log = []\n",
    "\n",
    "        for rep in tqdm(range(repetitions), leave=True):\n",
    "            learner = agent.Agent(states=(x * y), actions=5, discount=discount, max_reward=1, softmax=softmax, sarsa=sarsa)\n",
    "            env = environment.Environment(x, y, state, goal)\n",
    "            rewards_log, learner = train_agent(learner, env, alpha, eps, episodes, episode_length, initial=state)\n",
    "            log.append(rewards_log)\n",
    "\n",
    "        #compute mean reward per step (mrps) for each episode averaged over repetitions for given set of parameters\n",
    "        mrps.append(np.array(log).mean(axis=0))\n",
    "        i+=1\n",
    "\n",
    "    np.savetxt(\"mrps.txt\", np.array(mrps))\n",
    "else:\n",
    "    print(\"Flag is set to False so nothing happened\")"
   ]
  },
  {
   "cell_type": "markdown",
   "metadata": {},
   "source": [
    "# Analysis"
   ]
  },
  {
   "cell_type": "code",
   "execution_count": null,
   "metadata": {},
   "outputs": [],
   "source": [
    "# FIXED PARAMETERS\n",
    "episodes = 2000         # number of training episodes\n",
    "episode_length = 50     # maximum episode length\n",
    "x = 10                  # horizontal size of the box\n",
    "y = 10                  # vertical size of the box\n",
    "state = [7,8]           # starting point\n",
    "goal = [0,3]            # objective point\n",
    "discount = 0.9          # exponential discount factor\n",
    "alpha = np.ones(episodes) * 0.25\n",
    "\n",
    "#SEARCHED\n",
    "def epsilon(choice, episodes):\n",
    "    ei = 0.8\n",
    "    ef = 0.001\n",
    "    l = 3\n",
    "    if choice == \"lin\":\n",
    "        return np.linspace(ei, ef, episodes)\n",
    "    elif \"exp\":\n",
    "        return ef + (ei-ef)*np.exp(-l*np.arange(episodes)/episodes)"
   ]
  },
  {
   "cell_type": "code",
   "execution_count": null,
   "metadata": {},
   "outputs": [],
   "source": [
    "pars_choice = pd.read_csv(\"combinations.csv\")\n",
    "sarsas = pars_choice[pars_choice['sarsa']==True].index.tolist() \n",
    "qlearnings = pars_choice[pars_choice['sarsa']==False].index.tolist() \n",
    "\n",
    "data = np.loadtxt(\"mrps.txt\")"
   ]
  },
  {
   "cell_type": "code",
   "execution_count": null,
   "metadata": {},
   "outputs": [],
   "source": [
    "fig, ax = plt.subplots(1,2, figsize=(12,6))\n",
    "\n",
    "for i in qlearnings:\n",
    "    label = \"Softmax: \"+str(pars_choice.iloc[i][\"softmax\"])+\", Epsilon decay: \"+str(pars_choice.iloc[i][\"epsilon\"])\n",
    "    ax[0].scatter(np.arange(episodes), data[i], label=label, s=2)\n",
    "    ax[0].set_xlabel(\"Episode\", fontsize=15)\n",
    "    ax[0].set_ylabel(\"MRPS\", fontsize=15)\n",
    "    ax[0].set_title(\"Q-Learning\", fontsize=18)\n",
    "    ax[0].tick_params(axis='both', which='major', labelsize=12)\n",
    "    ax[0].tick_params(axis='both', which='minor', labelsize=10)\n",
    "    ax[0].legend(fontsize=13, markerscale=5, loc=4)\n",
    "    \n",
    "for i in sarsas:\n",
    "    label = \"Softmax: \"+str(pars_choice.iloc[i][\"softmax\"])+\", Epsilon decay: \"+str(pars_choice.iloc[i][\"epsilon\"])\n",
    "    ax[1].scatter(np.arange(episodes), data[i], label=label, s=2)\n",
    "    ax[1].set_xlabel(\"Episode\", fontsize=15)\n",
    "    ax[1].set_ylabel(\"MRPS\", fontsize=15)\n",
    "    ax[1].set_title(\"Sarsa\", fontsize=18)\n",
    "    ax[1].tick_params(axis='both', which='major', labelsize=12)\n",
    "    ax[1].tick_params(axis='both', which='minor', labelsize=10)\n",
    "    ax[1].legend(fontsize=13, markerscale=5, loc=4)\n",
    "\n",
    "fig.tight_layout()\n",
    "fig.savefig(\"combiantions.png\")\n",
    "plt.show()"
   ]
  },
  {
   "cell_type": "markdown",
   "metadata": {},
   "source": [
    "# The maze"
   ]
  },
  {
   "cell_type": "markdown",
   "metadata": {},
   "source": [
    "## Softmax"
   ]
  },
  {
   "cell_type": "code",
   "execution_count": 4,
   "metadata": {},
   "outputs": [],
   "source": [
    "# FIXED PARAMETERS\n",
    "episodes = 2000         # number of training episodes\n",
    "episode_length = 50     # maximum episode length\n",
    "x = 10                  # horizontal size of the box\n",
    "y = 10                  # vertical size of the box\n",
    "state = [9,1]           # starting point\n",
    "goal = [0,5]            # objective point\n",
    "discount = 0.9         # exponential discount factor\n",
    "alpha = np.ones(episodes) * 0.25\n",
    "eps = epsilon(\"exp\", episodes)"
   ]
  },
  {
   "cell_type": "code",
   "execution_count": 5,
   "metadata": {
    "scrolled": false
   },
   "outputs": [
    {
     "data": {
      "image/png": "[encoded data removed]",
      "text/plain": [
       "<Figure size 432x432 with 1 Axes>"
      ]
     },
     "metadata": {
      "needs_background": "light"
     },
     "output_type": "display_data"
    }
   ],
   "source": [
    "#QLEARNING\n",
    "walls=[[0,0],[1,1],[2,2,],[4,4],[5,5],[7,7],[8,8],[9,9]]\n",
    "swamps = [[9,0],[8,1],[7,2],[5,4],[4,5],[6,3],[2,7],[1,8],[0,9]]\n",
    "env = environment.Environment(x, y, state, goal, walls=walls, swamps=swamps)\n",
    "learner = agent.Agent(states=(x * y), actions=5, discount=discount, max_reward=1, softmax=True, sarsa=False)\n",
    "training=True\n",
    "if training:\n",
    "    rewards_log, learner = train_agent(learner, env, alpha, eps, episodes, episode_length, initial=state)\n",
    "if training:\n",
    "    path = test_agent(learner, env, episode_length, initial=state)\n",
    "    plot_moves(learner, env, path, \"qlearning_softmax_\"+str(discount)+\".png\", False, False)     "
   ]
  },
  {
   "cell_type": "code",
   "execution_count": 6,
   "metadata": {
    "scrolled": false
   },
   "outputs": [
    {
     "data": {
      "image/png": "[encoded data removed]",
      "text/plain": [
       "<Figure size 432x432 with 1 Axes>"
      ]
     },
     "metadata": {
      "needs_background": "light"
     },
     "output_type": "display_data"
    }
   ],
   "source": [
    "#SARSA\n",
    "walls=[[0,0],[1,1],[2,2,],[4,4],[5,5],[7,7],[8,8],[9,9]]\n",
    "swamps = [[9,0],[8,1],[7,2],[5,4],[4,5],[6,3],[2,7],[1,8],[0,9]]\n",
    "env = environment.Environment(x, y, state, goal, walls=walls, swamps=swamps)\n",
    "learner = agent.Agent(states=(x * y), actions=5, discount=discount, max_reward=1, softmax=True, sarsa=True)\n",
    "training=True\n",
    "if training:\n",
    "    rewards_log, learner = train_agent(learner, env, alpha, eps, episodes, episode_length, initial=state)\n",
    "if training:\n",
    "    path = test_agent(learner, env, episode_length, initial=state)\n",
    "    plot_moves(learner, env, path, \"sarsa_softmax_\"+str(discount)+\".png\",False, False)"
   ]
  },
  {
   "cell_type": "code",
   "execution_count": 7,
   "metadata": {},
   "outputs": [],
   "source": [
    "discount=0.8"
   ]
  },
  {
   "cell_type": "code",
   "execution_count": 8,
   "metadata": {
    "scrolled": false
   },
   "outputs": [
    {
     "data": {
      "image/png": "[encoded data removed]",
      "text/plain": [
       "<Figure size 432x432 with 1 Axes>"
      ]
     },
     "metadata": {
      "needs_background": "light"
     },
     "output_type": "display_data"
    }
   ],
   "source": [
    "#QLEARNING\n",
    "walls=[[0,0],[1,1],[2,2,],[4,4],[5,5],[7,7],[8,8],[9,9]]\n",
    "swamps = [[9,0],[8,1],[7,2],[5,4],[4,5],[6,3],[2,7],[1,8],[0,9]]\n",
    "env = environment.Environment(x, y, state, goal, walls=walls, swamps=swamps)\n",
    "learner = agent.Agent(states=(x * y), actions=5, discount=discount, max_reward=1, softmax=True, sarsa=False)\n",
    "training=True\n",
    "if training:\n",
    "    rewards_log, learner = train_agent(learner, env, alpha, eps, episodes, episode_length, initial=state)\n",
    "if training:\n",
    "    path = test_agent(learner, env, episode_length, initial=state)\n",
    "    plot_moves(learner, env, path, \"qlearning_softmax_\"+str(discount)+\".png\", False, False)      "
   ]
  },
  {
   "cell_type": "code",
   "execution_count": 9,
   "metadata": {
    "scrolled": false
   },
   "outputs": [
    {
     "data": {
      "image/png": "[encoded data removed]",
      "text/plain": [
       "<Figure size 432x432 with 1 Axes>"
      ]
     },
     "metadata": {
      "needs_background": "light"
     },
     "output_type": "display_data"
    }
   ],
   "source": [
    "#SARSA\n",
    "walls=[[0,0],[1,1],[2,2,],[4,4],[5,5],[7,7],[8,8],[9,9]]\n",
    "swamps = [[9,0],[8,1],[7,2],[5,4],[4,5],[6,3],[2,7],[1,8],[0,9]]\n",
    "env = environment.Environment(x, y, state, goal, walls=walls, swamps=swamps)\n",
    "learner = agent.Agent(states=(x * y), actions=5, discount=discount, max_reward=1, softmax=True, sarsa=True)\n",
    "training=True\n",
    "if training:\n",
    "    rewards_log, learner = train_agent(learner, env, alpha, eps, episodes, episode_length, initial=state)\n",
    "if training:\n",
    "    path = test_agent(learner, env, episode_length, initial=state)\n",
    "    plot_moves(learner, env, path, \"sarsa_softmax_\"+str(discount)+\".png\",False, False)"
   ]
  },
  {
   "cell_type": "markdown",
   "metadata": {
    "heading_collapsed": true
   },
   "source": [
    "### Linear"
   ]
  },
  {
   "cell_type": "code",
   "execution_count": null,
   "metadata": {
    "hidden": true
   },
   "outputs": [],
   "source": [
    "#QLEARNING + lin\n",
    "eps = epsilon(\"lin\", episodes)\n",
    "walls=[[0,0],[1,1],[2,2,],[4,4],[5,5],[7,7],[8,8],[9,9]]\n",
    "swamps = [[9,0],[8,1],[7,2],[5,4],[4,5],[6,3],[2,7],[1,8],[0,9]]\n",
    "env = environment.Environment(x, y, state, goal, walls=walls, swamps=swamps)\n",
    "learner = agent.Agent(states=(x * y), actions=5, discount=discount, max_reward=1, softmax=True, sarsa=False)\n",
    "training=False\n",
    "if training:\n",
    "    rewards_log, learner = train_agent(learner, env, alpha, eps, episodes, episode_length, initial=state)\n",
    "if training:\n",
    "    path = test_agent(learner, env, episode_length, initial=state)\n",
    "    plot_moves(learner, env, path, \"qlearning_softmax_lin.png\", True, False)    "
   ]
  },
  {
   "cell_type": "code",
   "execution_count": null,
   "metadata": {
    "hidden": true
   },
   "outputs": [],
   "source": [
    "#SARSA + lin\n",
    "eps = epsilon(\"lin\", episodes)\n",
    "walls=[[0,0],[1,1],[2,2,],[4,4],[5,5],[7,7],[8,8],[9,9]]\n",
    "swamps = [[9,0],[8,1],[7,2],[5,4],[4,5],[6,3],[2,7],[1,8],[0,9]]\n",
    "env = environment.Environment(x, y, state, goal, walls=walls, swamps=swamps)\n",
    "learner = agent.Agent(states=(x * y), actions=5, discount=discount, max_reward=1, softmax=True, sarsa=True)\n",
    "training=False\n",
    "if training:\n",
    "    rewards_log, learner = train_agent(learner, env, alpha, eps, episodes, episode_length, initial=state)\n",
    "if training:\n",
    "    path = test_agent(learner, env, episode_length, initial=state)\n",
    "    plot_moves(learner, env, path, \"sarsa_softmax_lin.png\", True, False)    "
   ]
  },
  {
   "cell_type": "markdown",
   "metadata": {
    "heading_collapsed": true
   },
   "source": [
    "## $\\epsilon$ greedy"
   ]
  },
  {
   "cell_type": "code",
   "execution_count": 10,
   "metadata": {
    "hidden": true
   },
   "outputs": [],
   "source": [
    "# FIXED PARAMETERS\n",
    "episodes = 2000         # number of training episodes\n",
    "episode_length = 50     # maximum episode length\n",
    "x = 10                  # horizontal size of the box\n",
    "y = 10                  # vertical size of the box\n",
    "state = [9,1]           # starting point\n",
    "goal = [0,5]            # objective point\n",
    "alpha = np.ones(episodes) * 0.25\n",
    "eps = epsilon(\"exp\", episodes)"
   ]
  },
  {
   "cell_type": "code",
   "execution_count": 11,
   "metadata": {
    "hidden": true
   },
   "outputs": [],
   "source": [
    "discount = 0.9    # exponential discount factor"
   ]
  },
  {
   "cell_type": "code",
   "execution_count": 12,
   "metadata": {
    "hidden": true
   },
   "outputs": [
    {
     "data": {
      "image/png": "[encoded data removed]",
      "text/plain": [
       "<Figure size 432x432 with 1 Axes>"
      ]
     },
     "metadata": {
      "needs_background": "light"
     },
     "output_type": "display_data"
    }
   ],
   "source": [
    "#QLEARNING\n",
    "walls=[[0,0],[1,1],[2,2,],[4,4],[5,5],[7,7],[8,8],[9,9]]\n",
    "swamps = [[9,0],[8,1],[7,2],[5,4],[4,5],[6,3],[2,7],[1,8],[0,9]]\n",
    "env = environment.Environment(x, y, state, goal, walls=walls, swamps=swamps)\n",
    "learner = agent.Agent(states=(x * y), actions=5, discount=discount, max_reward=1, softmax=False, sarsa=False)\n",
    "training=True\n",
    "if training:\n",
    "    rewards_log, learner = train_agent(learner, env, alpha, eps, episodes, episode_length, initial=state)\n",
    "if training:\n",
    "    path = test_agent(learner, env, episode_length, initial=state)\n",
    "    plot_moves(learner, env, path, \"qlearning_epsgreedy_\"+str(discount)+\".png\", False, False)    "
   ]
  },
  {
   "cell_type": "code",
   "execution_count": 13,
   "metadata": {
    "hidden": true
   },
   "outputs": [
    {
     "data": {
      "image/png": "[encoded data removed]",
      "text/plain": [
       "<Figure size 432x432 with 1 Axes>"
      ]
     },
     "metadata": {
      "needs_background": "light"
     },
     "output_type": "display_data"
    }
   ],
   "source": [
    "#SARSA\n",
    "discount=0.9\n",
    "\n",
    "walls=[[0,0],[1,1],[2,2,],[4,4],[5,5],[7,7],[8,8],[9,9]]\n",
    "swamps = [[9,0],[8,1],[7,2],[5,4],[4,5],[6,3],[2,7],[1,8],[0,9]]\n",
    "env = environment.Environment(x, y, state, goal, walls=walls, swamps=swamps)\n",
    "learner = agent.Agent(states=(x * y), actions=5, discount=discount, max_reward=1, softmax=False, sarsa=True)\n",
    "training=True\n",
    "if training:\n",
    "    rewards_log, learner = train_agent(learner, env, alpha, eps, episodes, episode_length, initial=state)\n",
    "if training:\n",
    "    path = test_agent(learner, env, episode_length, initial=state)\n",
    "    plot_moves(learner, env, path, \"sarsa_epsgreedy_\"+str(discount)+\".png\", False, False)"
   ]
  },
  {
   "cell_type": "code",
   "execution_count": 14,
   "metadata": {
    "hidden": true
   },
   "outputs": [],
   "source": [
    "discount = 0.8    # exponential discount factor"
   ]
  },
  {
   "cell_type": "code",
   "execution_count": 15,
   "metadata": {
    "hidden": true
   },
   "outputs": [
    {
     "data": {
      "image/png": "[encoded data removed]",
      "text/plain": [
       "<Figure size 432x432 with 1 Axes>"
      ]
     },
     "metadata": {
      "needs_background": "light"
     },
     "output_type": "display_data"
    }
   ],
   "source": [
    "#QLEARNING\n",
    "walls=[[0,0],[1,1],[2,2,],[4,4],[5,5],[7,7],[8,8],[9,9]]\n",
    "swamps = [[9,0],[8,1],[7,2],[5,4],[4,5],[6,3],[2,7],[1,8],[0,9]]\n",
    "env = environment.Environment(x, y, state, goal, walls=walls, swamps=swamps)\n",
    "learner = agent.Agent(states=(x * y), actions=5, discount=discount, max_reward=1, softmax=False, sarsa=False)\n",
    "training=True\n",
    "if training:\n",
    "    rewards_log, learner = train_agent(learner, env, alpha, eps, episodes, episode_length, initial=state)\n",
    "if training:\n",
    "    path = test_agent(learner, env, episode_length, initial=state)\n",
    "    plot_moves(learner, env, path, \"qlearning_epsgreedy_\"+str(discount)+\".png\", False, False)    "
   ]
  },
  {
   "cell_type": "code",
   "execution_count": 16,
   "metadata": {
    "hidden": true
   },
   "outputs": [
    {
     "data": {
      "image/png": "[encoded data removed]",
      "text/plain": [
       "<Figure size 432x432 with 1 Axes>"
      ]
     },
     "metadata": {
      "needs_background": "light"
     },
     "output_type": "display_data"
    }
   ],
   "source": [
    "#SARSA\n",
    "walls=[[0,0],[1,1],[2,2,],[4,4],[5,5],[7,7],[8,8],[9,9]]\n",
    "swamps = [[9,0],[8,1],[7,2],[5,4],[4,5],[6,3],[2,7],[1,8],[0,9]]\n",
    "env = environment.Environment(x, y, state, goal, walls=walls, swamps=swamps)\n",
    "learner = agent.Agent(states=(x * y), actions=5, discount=discount, max_reward=1, softmax=False, sarsa=True)\n",
    "training=True\n",
    "if training:\n",
    "    rewards_log, learner = train_agent(learner, env, alpha, eps, episodes, episode_length, initial=state)\n",
    "if training:\n",
    "    path = test_agent(learner, env, episode_length, initial=state)\n",
    "    plot_moves(learner, env, path, \"sarsa_epsgreedy_\"+str(discount)+\".png\", False, False)"
   ]
  },
  {
   "cell_type": "markdown",
   "metadata": {},
   "source": [
    "## Changing swamp reward"
   ]
  },
  {
   "cell_type": "code",
   "execution_count": 17,
   "metadata": {},
   "outputs": [],
   "source": [
    "swamp_reward=-0.60"
   ]
  },
  {
   "cell_type": "markdown",
   "metadata": {},
   "source": [
    "### Softmax"
   ]
  },
  {
   "cell_type": "code",
   "execution_count": 18,
   "metadata": {},
   "outputs": [],
   "source": [
    "# FIXED PARAMETERS\n",
    "episodes = 2000         # number of training episodes\n",
    "episode_length = 50     # maximum episode length\n",
    "x = 10                  # horizontal size of the box\n",
    "y = 10                  # vertical size of the box\n",
    "state = [9,1]           # starting point\n",
    "goal = [0,5]            # objective point\n",
    "discount = 0.9         # exponential discount factor\n",
    "alpha = np.ones(episodes) * 0.25\n",
    "eps = epsilon(\"exp\", episodes)"
   ]
  },
  {
   "cell_type": "code",
   "execution_count": 19,
   "metadata": {
    "scrolled": false
   },
   "outputs": [
    {
     "data": {
      "image/png": "[encoded data removed]",
      "text/plain": [
       "<Figure size 432x432 with 1 Axes>"
      ]
     },
     "metadata": {
      "needs_background": "light"
     },
     "output_type": "display_data"
    }
   ],
   "source": [
    "#QLEARNING\n",
    "walls=[[0,0],[1,1],[2,2,],[4,4],[5,5],[7,7],[8,8],[9,9]]\n",
    "swamps = [[9,0],[8,1],[7,2],[5,4],[4,5],[6,3],[2,7],[1,8],[0,9]]\n",
    "env = environment.Environment(x, y, state, goal, walls=walls, swamps=swamps, swamp_reward=swamp_reward)\n",
    "learner = agent.Agent(states=(x * y), actions=5, discount=discount, max_reward=1, softmax=True, sarsa=False)\n",
    "training=True\n",
    "if training:\n",
    "    rewards_log, learner = train_agent(learner, env, alpha, eps, episodes, episode_length, initial=state)\n",
    "if training:\n",
    "    path = test_agent(learner, env, episode_length, initial=state)\n",
    "    plot_moves(learner, env, path, \"qlearning_softmax_\"+str(discount)+\"_\"+str(swamp_reward)+\".png\", False, False)     "
   ]
  },
  {
   "cell_type": "code",
   "execution_count": 20,
   "metadata": {
    "scrolled": false
   },
   "outputs": [
    {
     "data": {
      "image/png": "[encoded data removed]",
      "text/plain": [
       "<Figure size 432x432 with 1 Axes>"
      ]
     },
     "metadata": {
      "needs_background": "light"
     },
     "output_type": "display_data"
    }
   ],
   "source": [
    "#SARSA\n",
    "walls=[[0,0],[1,1],[2,2,],[4,4],[5,5],[7,7],[8,8],[9,9]]\n",
    "swamps = [[9,0],[8,1],[7,2],[5,4],[4,5],[6,3],[2,7],[1,8],[0,9]]\n",
    "env = environment.Environment(x, y, state, goal, walls=walls, swamps=swamps, swamp_reward=swamp_reward)\n",
    "learner = agent.Agent(states=(x * y), actions=5, discount=discount, max_reward=1, softmax=True, sarsa=True)\n",
    "training=True\n",
    "if training:\n",
    "    rewards_log, learner = train_agent(learner, env, alpha, eps, episodes, episode_length, initial=state)\n",
    "if training:\n",
    "    path = test_agent(learner, env, episode_length, initial=state)\n",
    "    plot_moves(learner, env, path, \"sarsa_softmax_\"+str(discount)+\"_\"+str(swamp_reward)+\".png\",False, False)"
   ]
  },
  {
   "cell_type": "markdown",
   "metadata": {},
   "source": [
    "### $\\epsilon$ greedy"
   ]
  },
  {
   "cell_type": "code",
   "execution_count": 21,
   "metadata": {},
   "outputs": [],
   "source": [
    "# FIXED PARAMETERS\n",
    "episodes = 2000         # number of training episodes\n",
    "episode_length = 50     # maximum episode length\n",
    "x = 10                  # horizontal size of the box\n",
    "y = 10                  # vertical size of the box\n",
    "state = [9,1]           # starting point\n",
    "goal = [0,5]            # objective point\n",
    "alpha = np.ones(episodes) * 0.25\n",
    "eps = epsilon(\"exp\", episodes)"
   ]
  },
  {
   "cell_type": "code",
   "execution_count": 22,
   "metadata": {},
   "outputs": [],
   "source": [
    "discount = 0.9    # exponential discount factor"
   ]
  },
  {
   "cell_type": "code",
   "execution_count": 23,
   "metadata": {},
   "outputs": [
    {
     "data": {
      "image/png": "[encoded data removed]",
      "text/plain": [
       "<Figure size 432x432 with 1 Axes>"
      ]
     },
     "metadata": {
      "needs_background": "light"
     },
     "output_type": "display_data"
    }
   ],
   "source": [
    "#QLEARNING\n",
    "walls=[[0,0],[1,1],[2,2,],[4,4],[5,5],[7,7],[8,8],[9,9]]\n",
    "swamps = [[9,0],[8,1],[7,2],[5,4],[4,5],[6,3],[2,7],[1,8],[0,9]]\n",
    "env = environment.Environment(x, y, state, goal, walls=walls, swamps=swamps, swamp_reward=swamp_reward)\n",
    "learner = agent.Agent(states=(x * y), actions=5, discount=discount, max_reward=1, softmax=False, sarsa=False)\n",
    "training=True\n",
    "if training:\n",
    "    rewards_log, learner = train_agent(learner, env, alpha, eps, episodes, episode_length, initial=state)\n",
    "if training:\n",
    "    path = test_agent(learner, env, episode_length, initial=state)\n",
    "    plot_moves(learner, env, path, \"qlearning_epsgreedy_\"+str(discount)+\"_\"+str(swamp_reward)+\".png\", False, False)    "
   ]
  },
  {
   "cell_type": "code",
   "execution_count": 24,
   "metadata": {},
   "outputs": [
    {
     "data": {
      "image/png": "[encoded data removed]",
      "text/plain": [
       "<Figure size 432x432 with 1 Axes>"
      ]
     },
     "metadata": {
      "needs_background": "light"
     },
     "output_type": "display_data"
    }
   ],
   "source": [
    "#SARSA\n",
    "discount=0.9\n",
    "\n",
    "walls=[[0,0],[1,1],[2,2,],[4,4],[5,5],[7,7],[8,8],[9,9]]\n",
    "swamps = [[9,0],[8,1],[7,2],[5,4],[4,5],[6,3],[2,7],[1,8],[0,9]]\n",
    "env = environment.Environment(x, y, state, goal, walls=walls, swamps=swamps, swamp_reward=swamp_reward)\n",
    "learner = agent.Agent(states=(x * y), actions=5, discount=discount, max_reward=1, softmax=False, sarsa=True)\n",
    "training=True\n",
    "if training:\n",
    "    rewards_log, learner = train_agent(learner, env, alpha, eps, episodes, episode_length, initial=state)\n",
    "if training:\n",
    "    path = test_agent(learner, env, episode_length, initial=state)\n",
    "    plot_moves(learner, env, path, \"sarsa_epsgreedy_\"+str(discount)+\"_\"+str(swamp_reward)+\".png\", False, False)"
   ]
  },
  {
   "cell_type": "code",
   "execution_count": null,
   "metadata": {},
   "outputs": [],
   "source": []
  },
  {
   "cell_type": "code",
   "execution_count": null,
   "metadata": {},
   "outputs": [],
   "source": []
  }
 ],
 "metadata": {
  "kernelspec": {
   "display_name": "Python 3",
   "language": "python",
   "name": "python3"
  },
  "language_info": {
   "codemirror_mode": {
    "name": "ipython",
    "version": 3
   },
   "file_extension": ".py",
   "mimetype": "text/x-python",
   "name": "python",
   "nbconvert_exporter": "python",
   "pygments_lexer": "ipython3",
   "version": "3.7.3"
  },
  "toc": {
   "base_numbering": 1,
   "nav_menu": {},
   "number_sections": true,
   "sideBar": true,
   "skip_h1_title": false,
   "title_cell": "Table of Contents",
   "title_sidebar": "Contents",
   "toc_cell": false,
   "toc_position": {},
   "toc_section_display": true,
   "toc_window_display": false
  },
  "varInspector": {
   "cols": {
    "lenName": 16,
    "lenType": 16,
    "lenVar": 40
   },
   "kernels_config": {
    "python": {
     "delete_cmd_postfix": "",
     "delete_cmd_prefix": "del ",
     "library": "var_list.py",
     "varRefreshCmd": "print(var_dic_list())"
    },
    "r": {
     "delete_cmd_postfix": ") ",
     "delete_cmd_prefix": "rm(",
     "library": "var_list.r",
     "varRefreshCmd": "cat(var_dic_list()) "
    }
   },
   "types_to_exclude": [
    "module",
    "function",
    "builtin_function_or_method",
    "instance",
    "_Feature"
   ],
   "window_display": false
  }
 },
 "nbformat": 4,
 "nbformat_minor": 2
}
